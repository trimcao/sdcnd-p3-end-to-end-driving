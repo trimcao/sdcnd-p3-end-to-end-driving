{
 "cells": [
  {
   "cell_type": "code",
   "execution_count": 10,
   "metadata": {},
   "outputs": [],
   "source": [
    "import csv\n",
    "import cv2\n",
    "import numpy as np\n",
    "import matplotlib.pyplot as plt\n",
    "from keras.models import Sequential\n",
    "from keras.layers import Flatten, Dense, Lambda, Dropout\n",
    "from keras.layers import Convolution2D\n",
    "from keras.layers.convolutional import Cropping2D\n",
    "from keras import regularizers"
   ]
  },
  {
   "cell_type": "code",
   "execution_count": 2,
   "metadata": {
    "collapsed": true
   },
   "outputs": [],
   "source": [
    "def get_data(path):\n",
    "    \"\"\"\n",
    "    Get data from a directory. Each directory has a 'driving_log.csv' file, and\n",
    "    an 'IMG' folder.\n",
    "    Input: path should have the slash in the end, e.g './data/'\n",
    "    \"\"\"\n",
    "    lines = []\n",
    "    with open(path + 'driving_log.csv') as csvfile:\n",
    "        reader = csv.reader(csvfile)\n",
    "        for line in reader:\n",
    "            lines.append(line)\n",
    "    # read the csv file \n",
    "    images = []\n",
    "    measurements = []\n",
    "    for line in lines:\n",
    "        source_path = line[0]\n",
    "        filename = source_path.split('/')[-1]\n",
    "        current_path = path + 'IMG/' + filename\n",
    "        image = cv2.imread(current_path)\n",
    "        # convert image from BGR to YUV planes\n",
    "        image = cv2.cvtColor(image, cv2.COLOR_BGR2YUV)\n",
    "        images.append(image)\n",
    "        measurement = float(line[3])\n",
    "        measurements.append(measurement)\n",
    "    # convert to numpy array\n",
    "    X = np.array(images)\n",
    "    y = np.array(measurements)\n",
    "    return X, y"
   ]
  },
  {
   "cell_type": "code",
   "execution_count": 3,
   "metadata": {},
   "outputs": [],
   "source": [
    "X_train1, y_train1 = get_data('./data-1/')\n",
    "X_train2, y_train2 = get_data('./data-2/')\n",
    "X_train3, y_train3 = get_data('./data-3/')"
   ]
  },
  {
   "cell_type": "code",
   "execution_count": 5,
   "metadata": {
    "collapsed": true
   },
   "outputs": [],
   "source": [
    "X_train = np.concatenate((X_train1, X_train2, X_train3))\n",
    "y_train = np.concatenate((y_train1, y_train2, y_train3))"
   ]
  },
  {
   "cell_type": "code",
   "execution_count": 6,
   "metadata": {},
   "outputs": [
    {
     "name": "stdout",
     "output_type": "stream",
     "text": [
      "(8039, 160, 320, 3)\n",
      "(8039,)\n"
     ]
    }
   ],
   "source": [
    "print(X_train.shape)\n",
    "print(y_train.shape)"
   ]
  },
  {
   "cell_type": "code",
   "execution_count": 13,
   "metadata": {},
   "outputs": [],
   "source": [
    "# create a simple model\n",
    "input_shape = (160, 320, 3)\n",
    "model = Sequential()\n",
    "model.add(Lambda(lambda x: x / 255.0 - 0.5, input_shape=input_shape))\n",
    "model.add(Cropping2D(cropping=((70,25),(0,0))))\n",
    "model.add(Convolution2D(24,5,5, subsample=(2,2), activation='relu'))\n",
    "model.add(Dropout(0.5))\n",
    "model.add(Convolution2D(36,5,5, subsample=(2,2), activation='relu'))\n",
    "model.add(Dropout(0.5))\n",
    "model.add(Convolution2D(48,5,5, subsample=(2,2), activation='relu'))\n",
    "model.add(Dropout(0.5))\n",
    "model.add(Convolution2D(64,3,3, activation='relu'))\n",
    "model.add(Dropout(0.5))\n",
    "model.add(Convolution2D(64,3,3, activation='relu'))\n",
    "model.add(Dropout(0.5))\n",
    "model.add(Flatten())\n",
    "model.add(Dense(100, \n",
    "                W_regularizer=regularizers.l2(10e-4),\n",
    "                b_regularizer=regularizers.l2(10e-4),\n",
    "                activity_regularizer=None))\n",
    "model.add(Dropout(0.5))\n",
    "model.add(Dense(50,\n",
    "                W_regularizer=regularizers.l2(10e-4),\n",
    "                b_regularizer=regularizers.l2(10e-4),\n",
    "                activity_regularizer=None))\n",
    "model.add(Dropout(0.5))\n",
    "model.add(Dense(10,\n",
    "                W_regularizer=regularizers.l2(10e-4),\n",
    "                b_regularizer=regularizers.l2(10e-4),\n",
    "                activity_regularizer=None))\n",
    "model.add(Dropout(0.5))\n",
    "model.add(Dense(1))"
   ]
  },
  {
   "cell_type": "code",
   "execution_count": 15,
   "metadata": {},
   "outputs": [
    {
     "name": "stdout",
     "output_type": "stream",
     "text": [
      "Train on 6431 samples, validate on 1608 samples\n",
      "Epoch 1/40\n",
      "6431/6431 [==============================] - 9s - loss: 0.0157 - val_loss: 0.0656\n",
      "Epoch 2/40\n",
      "6431/6431 [==============================] - 9s - loss: 0.0156 - val_loss: 0.0656\n",
      "Epoch 3/40\n",
      "6431/6431 [==============================] - 8s - loss: 0.0156 - val_loss: 0.0655\n",
      "Epoch 4/40\n",
      "6431/6431 [==============================] - 9s - loss: 0.0156 - val_loss: 0.0658\n",
      "Epoch 5/40\n",
      "6431/6431 [==============================] - 9s - loss: 0.0156 - val_loss: 0.0658\n",
      "Epoch 6/40\n",
      "6431/6431 [==============================] - 9s - loss: 0.0156 - val_loss: 0.0655\n",
      "Epoch 7/40\n",
      "6431/6431 [==============================] - 9s - loss: 0.0156 - val_loss: 0.0655\n",
      "Epoch 8/40\n",
      "6431/6431 [==============================] - 9s - loss: 0.0156 - val_loss: 0.0656\n",
      "Epoch 9/40\n",
      "6431/6431 [==============================] - 9s - loss: 0.0156 - val_loss: 0.0656\n",
      "Epoch 10/40\n",
      "6431/6431 [==============================] - 9s - loss: 0.0156 - val_loss: 0.0656\n",
      "Epoch 11/40\n",
      "6431/6431 [==============================] - 8s - loss: 0.0156 - val_loss: 0.0656\n",
      "Epoch 12/40\n",
      "6431/6431 [==============================] - 9s - loss: 0.0156 - val_loss: 0.0655\n",
      "Epoch 13/40\n",
      "6431/6431 [==============================] - 8s - loss: 0.0156 - val_loss: 0.0657\n",
      "Epoch 14/40\n",
      "6431/6431 [==============================] - 9s - loss: 0.0156 - val_loss: 0.0655ss: 0.01\n",
      "Epoch 15/40\n",
      "6431/6431 [==============================] - 9s - loss: 0.0156 - val_loss: 0.0656\n",
      "Epoch 16/40\n",
      "6431/6431 [==============================] - 9s - loss: 0.0156 - val_loss: 0.0656\n",
      "Epoch 17/40\n",
      "6431/6431 [==============================] - 9s - loss: 0.0156 - val_loss: 0.0656\n",
      "Epoch 18/40\n",
      "6431/6431 [==============================] - 9s - loss: 0.0156 - val_loss: 0.0655\n",
      "Epoch 19/40\n",
      "6431/6431 [==============================] - 9s - loss: 0.0156 - val_loss: 0.0655\n",
      "Epoch 20/40\n",
      "6431/6431 [==============================] - 8s - loss: 0.0156 - val_loss: 0.0656\n",
      "Epoch 21/40\n",
      "6431/6431 [==============================] - 9s - loss: 0.0156 - val_loss: 0.0656\n",
      "Epoch 22/40\n",
      "6431/6431 [==============================] - 9s - loss: 0.0156 - val_loss: 0.0655ss: 0.01\n",
      "Epoch 23/40\n",
      "6431/6431 [==============================] - 9s - loss: 0.0156 - val_loss: 0.0656\n",
      "Epoch 24/40\n",
      "6431/6431 [==============================] - 9s - loss: 0.0156 - val_loss: 0.0656\n",
      "Epoch 25/40\n",
      "6431/6431 [==============================] - 9s - loss: 0.0156 - val_loss: 0.0656s\n",
      "Epoch 26/40\n",
      "6431/6431 [==============================] - 9s - loss: 0.0156 - val_loss: 0.0656\n",
      "Epoch 27/40\n",
      "6431/6431 [==============================] - 9s - loss: 0.0156 - val_loss: 0.0656\n",
      "Epoch 28/40\n",
      "6431/6431 [==============================] - 8s - loss: 0.0156 - val_loss: 0.0655\n",
      "Epoch 29/40\n",
      "6431/6431 [==============================] - 9s - loss: 0.0156 - val_loss: 0.0657\n",
      "Epoch 30/40\n",
      "6431/6431 [==============================] - 9s - loss: 0.0156 - val_loss: 0.0656\n",
      "Epoch 31/40\n",
      "6431/6431 [==============================] - 9s - loss: 0.0156 - val_loss: 0.0655\n",
      "Epoch 32/40\n",
      "6431/6431 [==============================] - 9s - loss: 0.0156 - val_loss: 0.0655\n",
      "Epoch 33/40\n",
      "6431/6431 [==============================] - 9s - loss: 0.0156 - val_loss: 0.0655\n",
      "Epoch 34/40\n",
      "6431/6431 [==============================] - 9s - loss: 0.0156 - val_loss: 0.0656\n",
      "Epoch 35/40\n",
      "6431/6431 [==============================] - 9s - loss: 0.0156 - val_loss: 0.0656\n",
      "Epoch 36/40\n",
      "6431/6431 [==============================] - 8s - loss: 0.0156 - val_loss: 0.0657\n",
      "Epoch 37/40\n",
      "6431/6431 [==============================] - 9s - loss: 0.0156 - val_loss: 0.0656\n",
      "Epoch 38/40\n",
      "6431/6431 [==============================] - 9s - loss: 0.0156 - val_loss: 0.0655\n",
      "Epoch 39/40\n",
      "6431/6431 [==============================] - 9s - loss: 0.0156 - val_loss: 0.0656\n",
      "Epoch 40/40\n",
      "6431/6431 [==============================] - 9s - loss: 0.0156 - val_loss: 0.0656\n"
     ]
    }
   ],
   "source": [
    "model.compile(loss='mse', optimizer='adam')\n",
    "history_object = model.fit(X_train, y_train, validation_split=0.2,\n",
    "          shuffle=True, nb_epoch=40)"
   ]
  },
  {
   "cell_type": "code",
   "execution_count": 16,
   "metadata": {
    "collapsed": true
   },
   "outputs": [],
   "source": [
    "model.save('model.h5')"
   ]
  },
  {
   "cell_type": "code",
   "execution_count": 17,
   "metadata": {},
   "outputs": [
    {
     "name": "stdout",
     "output_type": "stream",
     "text": [
      "dict_keys(['val_loss', 'loss'])\n"
     ]
    },
    {
     "data": {
      "image/png": "[encoded data removed]",
      "text/plain": [
       "<matplotlib.figure.Figure at 0x7f45fc6124e0>"
      ]
     },
     "metadata": {},
     "output_type": "display_data"
    }
   ],
   "source": [
    "# print the output of model\n",
    "### print the keys contained in the history object\n",
    "print(history_object.history.keys())\n",
    "\n",
    "### plot the training and validation loss for each epoch\n",
    "plt.plot(history_object.history['loss'])\n",
    "plt.plot(history_object.history['val_loss'])\n",
    "plt.title('model mean squared error loss')\n",
    "plt.ylabel('mean squared error loss')\n",
    "plt.xlabel('epoch')\n",
    "plt.legend(['training set', 'validation set'], loc='upper right')\n",
    "plt.show()"
   ]
  },
  {
   "cell_type": "code",
   "execution_count": null,
   "metadata": {
    "collapsed": true
   },
   "outputs": [],
   "source": []
  }
 ],
 "metadata": {
  "kernelspec": {
   "display_name": "Python 3",
   "language": "python",
   "name": "python3"
  },
  "language_info": {
   "codemirror_mode": {
    "name": "ipython",
    "version": 3
   },
   "file_extension": ".py",
   "mimetype": "text/x-python",
   "name": "python",
   "nbconvert_exporter": "python",
   "pygments_lexer": "ipython3",
   "version": "3.5.2"
  },
  "widgets": {
   "state": {},
   "version": "1.1.2"
  }
 },
 "nbformat": 4,
 "nbformat_minor": 2
}
