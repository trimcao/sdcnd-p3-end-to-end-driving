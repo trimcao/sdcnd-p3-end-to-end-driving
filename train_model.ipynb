{
 "cells": [
  {
   "cell_type": "code",
   "execution_count": 1,
   "metadata": {},
   "outputs": [
    {
     "name": "stderr",
     "output_type": "stream",
     "text": [
      "Using TensorFlow backend.\n"
     ]
    }
   ],
   "source": [
    "import csv\n",
    "# import cv2\n",
    "import numpy as np\n",
    "import matplotlib.pyplot as plt\n",
    "from keras.models import Sequential\n",
    "from keras.layers import Flatten, Dense, Lambda, Dropout\n",
    "from keras.layers import Convolution2D, ELU\n",
    "from keras.layers.convolutional import Cropping2D\n",
    "from keras import regularizers\n",
    "import matplotlib.image as mpimg\n",
    "from matplotlib.colors import rgb_to_hsv, hsv_to_rgb\n",
    "import random\n",
    "from sklearn.utils import shuffle\n",
    "from sklearn.model_selection import train_test_split\n",
    "import pickle\n",
    "%matplotlib inline"
   ]
  },
  {
   "cell_type": "code",
   "execution_count": 2,
   "metadata": {
    "collapsed": true
   },
   "outputs": [],
   "source": [
    "def modify_brightness(img):\n",
    "    \"\"\"\n",
    "    Modify the brightness of a RGB img (imported by matplotlib).\n",
    "    \"\"\"\n",
    "    # get a random number in range [0.5, 1.5]\n",
    "    change = random.random() + 0.5\n",
    "    hsv = rgb_to_hsv(img)\n",
    "    hsv *= change\n",
    "    rgb = hsv_to_rgb(hsv)\n",
    "    return rgb"
   ]
  },
  {
   "cell_type": "code",
   "execution_count": 3,
   "metadata": {
    "collapsed": true
   },
   "outputs": [],
   "source": [
    "def get_data_center(path):\n",
    "    \"\"\"\n",
    "    Get data from a directory. Each directory has a 'driving_log.csv' file, and\n",
    "    an 'IMG' folder.\n",
    "    Only center images.\n",
    "    Input: path should have the slash in the end, e.g './data/'\n",
    "    \"\"\"\n",
    "    lines = []\n",
    "    with open(path + 'driving_log.csv') as csvfile:\n",
    "        reader = csv.reader(csvfile)\n",
    "        for line in reader:\n",
    "            lines.append(line)\n",
    "    # read the csv file \n",
    "    images = []\n",
    "    # side_images = []\n",
    "    steering_angles = []\n",
    "    for line in lines:\n",
    "        img_center_path = line[0].split('/')[-1]\n",
    "        current_path = path + 'IMG/'\n",
    "        img_center = mpimg.imread(current_path + img_center_path)\n",
    "        images.append(img_center)\n",
    "        steering_center = float(line[3])\n",
    "        steering_angles.append(steering_center)\n",
    "    # convert to numpy array\n",
    "    X = np.array(images)\n",
    "    y = np.array(steering_angles)\n",
    "    return X, y"
   ]
  },
  {
   "cell_type": "code",
   "execution_count": 4,
   "metadata": {
    "collapsed": true
   },
   "outputs": [],
   "source": [
    "def get_data_sides(path, correction=0.3, only_Y=False):\n",
    "    \"\"\"\n",
    "    Get data from a directory. Each directory has a 'driving_log.csv' file, and\n",
    "    an 'IMG' folder.\n",
    "    Only side images.\n",
    "    Input: path should have the slash in the end, e.g './data/'\n",
    "    \"\"\"\n",
    "    lines = []\n",
    "    with open(path + 'driving_log.csv') as csvfile:\n",
    "        reader = csv.reader(csvfile)\n",
    "        for line in reader:\n",
    "            lines.append(line)\n",
    "    # read the csv file \n",
    "    images = []\n",
    "    steering_angles = []\n",
    "    for line in lines:\n",
    "        if not only_Y:\n",
    "            img_left_path = line[1].split('/')[-1]\n",
    "            img_right_path = line[2].split('/')[-1]\n",
    "            current_path = path + 'IMG/'\n",
    "            img_left = mpimg.imread(current_path + img_left_path)\n",
    "            img_right = mpimg.imread(current_path + img_right_path)\n",
    "            images.extend([img_left, img_right])\n",
    "        # get steering data\n",
    "        steering_center = float(line[3])\n",
    "        # steering_angles.append(steering_center)\n",
    "        # create adjusted steering measurements for the side camera images\n",
    "        steering_left = steering_center + correction\n",
    "        steering_right = steering_center - correction\n",
    "        steering_angles.extend([steering_left, steering_right])\n",
    "    # convert to numpy array\n",
    "    y = np.array(steering_angles)\n",
    "    if not only_Y:\n",
    "        X = np.array(images)\n",
    "        return X, y\n",
    "    else:\n",
    "        return y"
   ]
  },
  {
   "cell_type": "markdown",
   "metadata": {},
   "source": [
    "### Prepare the validation set"
   ]
  },
  {
   "cell_type": "code",
   "execution_count": 5,
   "metadata": {},
   "outputs": [
    {
     "name": "stdout",
     "output_type": "stream",
     "text": [
      "(1484, 160, 320, 3)\n",
      "(2182, 160, 320, 3)\n"
     ]
    }
   ],
   "source": [
    "X_valid1, y_valid1 = get_data_center('./valid1/')\n",
    "X_valid2, y_valid2 = get_data_center('./valid2/')\n",
    "X_valid3, y_valid3 = get_data_center('./valid3/')\n",
    "X_valid4, y_valid4 = get_data_center('./valid4/')\n",
    "print(X_valid1.shape)\n",
    "print(X_valid2.shape)"
   ]
  },
  {
   "cell_type": "code",
   "execution_count": 6,
   "metadata": {
    "collapsed": true
   },
   "outputs": [],
   "source": [
    "X_valid = np.concatenate((X_valid1, X_valid2, X_valid3, X_valid4))\n",
    "y_valid = np.concatenate((y_valid1, y_valid2, y_valid3, y_valid4))\n",
    "# X_valid.astype(np.float32)\n",
    "# y_valid.astype(np.float32)\n",
    "del X_valid1\n",
    "del X_valid2\n",
    "del y_valid1\n",
    "del y_valid2\n",
    "del X_valid3\n",
    "del X_valid4"
   ]
  },
  {
   "cell_type": "code",
   "execution_count": 7,
   "metadata": {},
   "outputs": [
    {
     "name": "stdout",
     "output_type": "stream",
     "text": [
      "(7093, 160, 320, 3)\n"
     ]
    }
   ],
   "source": [
    "print(X_valid.shape)"
   ]
  },
  {
   "cell_type": "code",
   "execution_count": null,
   "metadata": {
    "collapsed": true
   },
   "outputs": [],
   "source": [
    "# save the validation set to pickle\n",
    "# train = (X_train, y_train)\n",
    "valid = (X_valid, y_valid)\n",
    "# pickle.dump(valid, open(\"valid.p\", \"wb\"))"
   ]
  },
  {
   "cell_type": "markdown",
   "metadata": {},
   "source": [
    "### Prepare training data"
   ]
  },
  {
   "cell_type": "code",
   "execution_count": 8,
   "metadata": {
    "collapsed": true
   },
   "outputs": [],
   "source": [
    "# Get all the center images\n",
    "X_center1, y_center1 = get_data_center('./track1/')\n",
    "X_center2, y_center2 = get_data_center('./track1-recover/')\n",
    "X_center3, y_center3 = get_data_center('./track2/')\n",
    "X_center4, y_center4 = get_data_center('./track2-recover/')\n",
    "# X_train, y_train = get_data_center('./simple-data/')"
   ]
  },
  {
   "cell_type": "code",
   "execution_count": 9,
   "metadata": {
    "collapsed": true
   },
   "outputs": [],
   "source": [
    "X_center = np.concatenate((X_center1, X_center2, X_center3, X_center4))\n",
    "y_center = np.concatenate((y_center1, y_center2, y_center3, y_center4))"
   ]
  },
  {
   "cell_type": "code",
   "execution_count": 10,
   "metadata": {
    "collapsed": true
   },
   "outputs": [],
   "source": [
    "del X_center1\n",
    "del X_center2\n",
    "del X_center3\n",
    "del X_center4"
   ]
  },
  {
   "cell_type": "code",
   "execution_count": 11,
   "metadata": {},
   "outputs": [
    {
     "name": "stdout",
     "output_type": "stream",
     "text": [
      "(12441, 160, 320, 3)\n",
      "(12441,)\n"
     ]
    }
   ],
   "source": [
    "print(X_center.shape)\n",
    "print(y_center.shape)"
   ]
  },
  {
   "cell_type": "code",
   "execution_count": 12,
   "metadata": {},
   "outputs": [
    {
     "data": {
      "text/plain": [
       "<matplotlib.image.AxesImage at 0x7f9f87cf5da0>"
      ]
     },
     "execution_count": 12,
     "metadata": {},
     "output_type": "execute_result"
    },
    {
     "data": {
      "image/png": "[encoded data removed]",
      "text/plain": [
       "<matplotlib.figure.Figure at 0x7f9fe46bc160>"
      ]
     },
     "metadata": {},
     "output_type": "display_data"
    }
   ],
   "source": [
    "plt.imshow(X_center[100][50:-20,:,:])"
   ]
  },
  {
   "cell_type": "code",
   "execution_count": null,
   "metadata": {
    "collapsed": true
   },
   "outputs": [],
   "source": [
    "# split train-valid sets\n",
    "# X_train, X_valid, y_train, y_valid = train_test_split(X_train, y_train, test_size=0.2, random_state=42)"
   ]
  },
  {
   "cell_type": "code",
   "execution_count": null,
   "metadata": {
    "collapsed": true
   },
   "outputs": [],
   "source": [
    "print(X_center.shape)\n",
    "print(X_valid.shape)"
   ]
  },
  {
   "cell_type": "markdown",
   "metadata": {},
   "source": [
    "### Augment the training set"
   ]
  },
  {
   "cell_type": "markdown",
   "metadata": {},
   "source": [
    "#### Flip the images and Change brightness"
   ]
  },
  {
   "cell_type": "code",
   "execution_count": 13,
   "metadata": {
    "collapsed": true
   },
   "outputs": [],
   "source": [
    "X_center_flip = []\n",
    "# X_center_bright = []\n",
    "for img in X_center:\n",
    "    # flip the images\n",
    "    X_center_flip.append(np.fliplr(img))\n",
    "    # change brightness\n",
    "#     X_center_bright.append(modify_brightness(img))\n",
    "X_center_flip = np.array(X_center_flip)\n",
    "# X_center_bright = np.array(X_center_bright, dtype=np.uint8)\n",
    "y_center_flip = -1 * y_center"
   ]
  },
  {
   "cell_type": "code",
   "execution_count": null,
   "metadata": {
    "scrolled": false
   },
   "outputs": [],
   "source": [
    "plt.imshow(X_center_bright[54]/255.)"
   ]
  },
  {
   "cell_type": "markdown",
   "metadata": {},
   "source": [
    "#### Combine the training set (without the left, right images)"
   ]
  },
  {
   "cell_type": "code",
   "execution_count": 15,
   "metadata": {
    "collapsed": true
   },
   "outputs": [],
   "source": [
    "X_center = np.concatenate((X_center, X_center_flip))\n",
    "y_center = np.concatenate((y_center, y_center_flip))"
   ]
  },
  {
   "cell_type": "code",
   "execution_count": null,
   "metadata": {
    "scrolled": true
   },
   "outputs": [],
   "source": [
    "del X_center_flip\n",
    "# del X_center_bright\n",
    "# del y_center_flip"
   ]
  },
  {
   "cell_type": "code",
   "execution_count": 19,
   "metadata": {},
   "outputs": [
    {
     "name": "stdout",
     "output_type": "stream",
     "text": [
      "uint8\n",
      "float64\n",
      "(24882, 160, 320, 3)\n",
      "(24882,)\n"
     ]
    }
   ],
   "source": [
    "# y_center = y_center.astype(np.float32)\n",
    "print(X_center.dtype)\n",
    "print(y_center.dtype)\n",
    "print(X_center.shape)\n",
    "print(y_center.shape)"
   ]
  },
  {
   "cell_type": "code",
   "execution_count": null,
   "metadata": {
    "collapsed": true
   },
   "outputs": [],
   "source": [
    "# save the training set to pickle\n",
    "# train = (X_train, y_train)\n",
    "center = (X_center, y_center)\n",
    "# pickle.dump(valid, open(\"train_center.p\", \"wb\"))"
   ]
  },
  {
   "cell_type": "markdown",
   "metadata": {},
   "source": [
    "#### Get the left, right images"
   ]
  },
  {
   "cell_type": "code",
   "execution_count": 20,
   "metadata": {
    "collapsed": true
   },
   "outputs": [],
   "source": [
    "X_side1, y_side1 = get_data_sides('./track1/')\n",
    "X_side2, y_side2 = get_data_sides('./track1-recover/')\n",
    "X_side3, y_side3 = get_data_sides('./track2/')\n",
    "X_side4, y_side4 = get_data_sides('./track2-recover/')"
   ]
  },
  {
   "cell_type": "code",
   "execution_count": 21,
   "metadata": {
    "collapsed": true
   },
   "outputs": [],
   "source": [
    "X_side = np.concatenate((X_side1, X_side2, X_side3, X_side4))\n",
    "# X_side = X_side.astype(np.float32)\n",
    "y_side = np.concatenate((y_side1, y_side2, y_side3, y_side4))\n",
    "# y_side = y_side.astype(np.float32)"
   ]
  },
  {
   "cell_type": "code",
   "execution_count": 22,
   "metadata": {
    "collapsed": true
   },
   "outputs": [],
   "source": [
    "del X_side1\n",
    "del X_side2\n",
    "del X_side3\n",
    "del X_side4"
   ]
  },
  {
   "cell_type": "code",
   "execution_count": null,
   "metadata": {
    "collapsed": true
   },
   "outputs": [],
   "source": [
    "side = (X_side, y_side)\n",
    "# pickle.dump(valid, open(\"train_side.p\", \"wb\"))"
   ]
  },
  {
   "cell_type": "markdown",
   "metadata": {},
   "source": [
    "### Checkpoint"
   ]
  },
  {
   "cell_type": "code",
   "execution_count": null,
   "metadata": {
    "collapsed": true
   },
   "outputs": [],
   "source": [
    "# can load the preprocessed dataset here"
   ]
  },
  {
   "cell_type": "markdown",
   "metadata": {},
   "source": [
    "#### Get different value for steering correction"
   ]
  },
  {
   "cell_type": "code",
   "execution_count": 23,
   "metadata": {
    "collapsed": true
   },
   "outputs": [],
   "source": [
    "# get different values of steering values:\n",
    "correct = 0.25\n",
    "y_side1 = get_data_sides('./track1/', correction=correct, only_Y=True)\n",
    "y_side2 = get_data_sides('./track1-recover/', correction=correct, only_Y=True)\n",
    "y_side3 = get_data_sides('./track2/', correction=correct, only_Y=True)\n",
    "y_side4 = get_data_sides('./track2-recover/', correction=correct, only_Y=True)"
   ]
  },
  {
   "cell_type": "code",
   "execution_count": 24,
   "metadata": {
    "collapsed": true
   },
   "outputs": [],
   "source": [
    "y_side = np.concatenate((y_side1, y_side2, y_side3, y_side4))"
   ]
  },
  {
   "cell_type": "code",
   "execution_count": null,
   "metadata": {
    "collapsed": true
   },
   "outputs": [],
   "source": [
    "y_side.astype(np.float32)\n",
    "print(X_side.shape)\n",
    "print(y_side.shape)"
   ]
  },
  {
   "cell_type": "markdown",
   "metadata": {},
   "source": [
    "#### Combine center and side images"
   ]
  },
  {
   "cell_type": "code",
   "execution_count": null,
   "metadata": {
    "collapsed": true
   },
   "outputs": [],
   "source": [
    "X_train = np.concatenate((X_center, X_side))\n",
    "y_train = np.concatenate((y_center, y_side))"
   ]
  },
  {
   "cell_type": "code",
   "execution_count": null,
   "metadata": {
    "collapsed": true
   },
   "outputs": [],
   "source": [
    "print(X_center.shape)\n",
    "print(X_side.shape)"
   ]
  },
  {
   "cell_type": "code",
   "execution_count": null,
   "metadata": {},
   "outputs": [],
   "source": [
    "train = (X_train, y_train)\n",
    "pickle.dump(train, open(\"train.p\", \"wb\"))"
   ]
  },
  {
   "cell_type": "markdown",
   "metadata": {},
   "source": [
    "### Train the network"
   ]
  },
  {
   "cell_type": "markdown",
   "metadata": {},
   "source": [
    "#### Using NVIDIA architecture"
   ]
  },
  {
   "cell_type": "code",
   "execution_count": null,
   "metadata": {
    "collapsed": true
   },
   "outputs": [],
   "source": [
    "input_shape = (160, 320, 3)\n",
    "model = Sequential()\n",
    "model.add(Lambda(lambda x: x/127.5 - 1., input_shape=input_shape))\n",
    "model.add(Cropping2D(cropping=((50,20),(0,0))))\n",
    "model.add(Convolution2D(24,5,5, subsample=(2,2), activation='elu'))\n",
    "model.add(Dropout(0.2))\n",
    "model.add(Convolution2D(36,5,5, subsample=(2,2), activation='elu'))\n",
    "model.add(Dropout(0.2))\n",
    "model.add(Convolution2D(48,5,5, subsample=(2,2), activation='elu'))\n",
    "model.add(Dropout(0.2))\n",
    "model.add(Convolution2D(64,3,3, activation='elu'))\n",
    "model.add(Dropout(0.2))\n",
    "model.add(Convolution2D(64,3,3, activation='elu'))\n",
    "model.add(Dropout(0.2))\n",
    "model.add(Flatten())\n",
    "model.add(Dropout(0.2))\n",
    "model.add(Dense(100, \n",
    "#                 W_regularizer=regularizers.l2(10e-3),\n",
    "#                 b_regularizer=regularizers.l2(10e-3),\n",
    "                activity_regularizer=None))\n",
    "model.add(Dropout(0.2))\n",
    "model.add(Dense(50,\n",
    "#                 W_regularizer=regularizers.l2(10e-3),\n",
    "#                 b_regularizer=regularizers.l2(10e-3),\n",
    "                activity_regularizer=None))\n",
    "model.add(Dropout(0.2))\n",
    "model.add(Dense(10,\n",
    "#                 W_regularizer=regularizers.l2(10e-3),\n",
    "#                 b_regularizer=regularizers.l2(10e-3),\n",
    "                activity_regularizer=None))\n",
    "model.add(Dropout(0.2))\n",
    "model.add(Dense(1))"
   ]
  },
  {
   "cell_type": "markdown",
   "metadata": {},
   "source": [
    "#### Compile and train the model"
   ]
  },
  {
   "cell_type": "code",
   "execution_count": 33,
   "metadata": {
    "collapsed": true
   },
   "outputs": [],
   "source": [
    "model.compile(loss='mse', optimizer='adam')"
   ]
  },
  {
   "cell_type": "code",
   "execution_count": null,
   "metadata": {},
   "outputs": [
    {
     "name": "stdout",
     "output_type": "stream",
     "text": [
      "Train on 49764 samples, validate on 7093 samples\n",
      "Epoch 1/1\n",
      "49760/49764 [============================>.] - ETA: 0s - loss: 0.1042"
     ]
    }
   ],
   "source": [
    "history_object = model.fit(X_train, y_train, validation_data=(X_valid,y_valid),\n",
    "                           shuffle=True, nb_epoch=1)"
   ]
  },
  {
   "cell_type": "code",
   "execution_count": null,
   "metadata": {
    "collapsed": true
   },
   "outputs": [],
   "source": [
    "# train with center images\n",
    "# history_object = model.fit(X_center, y_center, validation_data=(X_valid,y_valid),\n",
    "#                            shuffle=True, nb_epoch=1)"
   ]
  },
  {
   "cell_type": "code",
   "execution_count": null,
   "metadata": {
    "collapsed": true
   },
   "outputs": [],
   "source": [
    "# train with side images\n",
    "# model.fit(X_side, y_side, validation_data=(X_valid,y_valid),\n",
    "#                            shuffle=True, nb_epoch=1)"
   ]
  },
  {
   "cell_type": "code",
   "execution_count": 35,
   "metadata": {
    "scrolled": true
   },
   "outputs": [
    {
     "name": "stdout",
     "output_type": "stream",
     "text": [
      "dict_keys(['val_loss', 'loss'])\n"
     ]
    },
    {
     "data": {
      "image/png": "[encoded data removed]",
      "text/plain": [
       "<matplotlib.figure.Figure at 0x7f9f6090bd68>"
      ]
     },
     "metadata": {},
     "output_type": "display_data"
    }
   ],
   "source": [
    "# print the output of model\n",
    "### print the keys contained in the history object\n",
    "print(history_object.history.keys())\n",
    "\n",
    "### plot the training and validation loss for each epoch\n",
    "plt.plot(history_object.history['loss'])\n",
    "plt.plot(history_object.history['val_loss'])\n",
    "plt.title('model mean squared error loss')\n",
    "plt.ylabel('mean squared error loss')\n",
    "plt.xlabel('epoch')\n",
    "plt.legend(['training set', 'validation set'], loc='upper right')\n",
    "plt.show()"
   ]
  },
  {
   "cell_type": "code",
   "execution_count": null,
   "metadata": {
    "collapsed": true
   },
   "outputs": [],
   "source": [
    "model.save('model.h5')"
   ]
  },
  {
   "cell_type": "markdown",
   "metadata": {},
   "source": [
    "#### Comma.AI architecture"
   ]
  },
  {
   "cell_type": "code",
   "execution_count": null,
   "metadata": {
    "collapsed": true
   },
   "outputs": [],
   "source": [
    "# # Comma.AI model\n",
    "# input_shape = (160, 320, 3)\n",
    "# model = Sequential()\n",
    "# model.add(Lambda(lambda x: x/127.5 - 1.,\n",
    "#         input_shape=input_shape))\n",
    "# model.add(Cropping2D(cropping=((50,20),(0,0))))\n",
    "# model.add(Convolution2D(16, 8, 8, subsample=(4, 4), border_mode=\"same\"))\n",
    "# model.add(ELU())\n",
    "# model.add(Convolution2D(32, 5, 5, subsample=(2, 2), border_mode=\"same\"))\n",
    "# model.add(ELU())\n",
    "# model.add(Convolution2D(64, 5, 5, subsample=(2, 2), border_mode=\"same\"))\n",
    "# model.add(Flatten())\n",
    "# model.add(Dropout(.2))\n",
    "# model.add(ELU())\n",
    "# model.add(Dense(512))\n",
    "# model.add(Dropout(.5))\n",
    "# model.add(ELU())\n",
    "# model.add(Dense(1))"
   ]
  }
 ],
 "metadata": {
  "kernelspec": {
   "display_name": "Python 3",
   "language": "python",
   "name": "python3"
  },
  "language_info": {
   "codemirror_mode": {
    "name": "ipython",
    "version": 3
   },
   "file_extension": ".py",
   "mimetype": "text/x-python",
   "name": "python",
   "nbconvert_exporter": "python",
   "pygments_lexer": "ipython3",
   "version": "3.5.2"
  },
  "widgets": {
   "state": {},
   "version": "1.1.2"
  }
 },
 "nbformat": 4,
 "nbformat_minor": 2
}
