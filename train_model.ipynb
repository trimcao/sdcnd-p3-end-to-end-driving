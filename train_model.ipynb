{
 "cells": [
  {
   "cell_type": "code",
   "execution_count": 2,
   "metadata": {},
   "outputs": [
    {
     "name": "stderr",
     "output_type": "stream",
     "text": [
      "Using TensorFlow backend.\n"
     ]
    }
   ],
   "source": [
    "import csv\n",
    "import cv2\n",
    "import numpy as np\n",
    "import matplotlib.pyplot as plt\n",
    "from keras.models import Sequential\n",
    "from keras.layers import Flatten, Dense, Lambda\n",
    "from keras.layers import Convolution2D\n",
    "from keras.layers.convolutional import Cropping2D"
   ]
  },
  {
   "cell_type": "code",
   "execution_count": 3,
   "metadata": {
    "collapsed": true
   },
   "outputs": [],
   "source": [
    "def get_data(path):\n",
    "    \"\"\"\n",
    "    Get data from a directory. Each directory has a 'driving_log.csv' file, and\n",
    "    an 'IMG' folder.\n",
    "    Input: path should have the slash in the end, e.g './data/'\n",
    "    \"\"\"\n",
    "    lines = []\n",
    "    with open(path + 'driving_log.csv') as csvfile:\n",
    "        reader = csv.reader(csvfile)\n",
    "        for line in reader:\n",
    "            lines.append(line)\n",
    "    # read the csv file \n",
    "    images = []\n",
    "    measurements = []\n",
    "    for line in lines:\n",
    "        source_path = line[0]\n",
    "        filename = source_path.split('/')[-1]\n",
    "        current_path = path + 'IMG/' + filename\n",
    "        image = cv2.imread(current_path)\n",
    "        # convert image from BGR to YUV planes\n",
    "        image = cv2.cvtColor(image, cv2.COLOR_BGR2YUV)\n",
    "        images.append(image)\n",
    "        measurement = float(line[3])\n",
    "        measurements.append(measurement)\n",
    "    # convert to numpy array\n",
    "    X = np.array(images)\n",
    "    y = np.array(measurements)\n",
    "    return X, y"
   ]
  },
  {
   "cell_type": "code",
   "execution_count": 4,
   "metadata": {},
   "outputs": [
    {
     "ename": "AttributeError",
     "evalue": "module 'numpy' has no attribute 'concat'",
     "output_type": "error",
     "traceback": [
      "\u001b[0;31m---------------------------------------------------------------------------\u001b[0m",
      "\u001b[0;31mAttributeError\u001b[0m                            Traceback (most recent call last)",
      "\u001b[0;32m<ipython-input-4-4e2b324fd8ee>\u001b[0m in \u001b[0;36m<module>\u001b[0;34m()\u001b[0m\n\u001b[1;32m      2\u001b[0m \u001b[0mX_train2\u001b[0m\u001b[0;34m,\u001b[0m \u001b[0my_train2\u001b[0m \u001b[0;34m=\u001b[0m \u001b[0mget_data\u001b[0m\u001b[0;34m(\u001b[0m\u001b[0;34m'./data-2/'\u001b[0m\u001b[0;34m)\u001b[0m\u001b[0;34m\u001b[0m\u001b[0m\n\u001b[1;32m      3\u001b[0m \u001b[0mX_train3\u001b[0m\u001b[0;34m,\u001b[0m \u001b[0my_train3\u001b[0m \u001b[0;34m=\u001b[0m \u001b[0mget_data\u001b[0m\u001b[0;34m(\u001b[0m\u001b[0;34m'./data-3/'\u001b[0m\u001b[0;34m)\u001b[0m\u001b[0;34m\u001b[0m\u001b[0m\n\u001b[0;32m----> 4\u001b[0;31m \u001b[0mX_train\u001b[0m \u001b[0;34m=\u001b[0m \u001b[0mnp\u001b[0m\u001b[0;34m.\u001b[0m\u001b[0mconcat\u001b[0m\u001b[0;34m(\u001b[0m\u001b[0;34m(\u001b[0m\u001b[0mX_train1\u001b[0m\u001b[0;34m,\u001b[0m \u001b[0mX_train2\u001b[0m\u001b[0;34m,\u001b[0m \u001b[0mX_train3\u001b[0m\u001b[0;34m)\u001b[0m\u001b[0;34m)\u001b[0m\u001b[0;34m\u001b[0m\u001b[0m\n\u001b[0m\u001b[1;32m      5\u001b[0m \u001b[0my_train\u001b[0m \u001b[0;34m=\u001b[0m \u001b[0mnp\u001b[0m\u001b[0;34m.\u001b[0m\u001b[0mconcat\u001b[0m\u001b[0;34m(\u001b[0m\u001b[0;34m(\u001b[0m\u001b[0my_train1\u001b[0m\u001b[0;34m,\u001b[0m \u001b[0my_train2\u001b[0m\u001b[0;34m,\u001b[0m \u001b[0my_train3\u001b[0m\u001b[0;34m)\u001b[0m\u001b[0;34m)\u001b[0m\u001b[0;34m\u001b[0m\u001b[0m\n",
      "\u001b[0;31mAttributeError\u001b[0m: module 'numpy' has no attribute 'concat'"
     ]
    }
   ],
   "source": [
    "X_train1, y_train1 = get_data('./data-1/')\n",
    "X_train2, y_train2 = get_data('./data-2/')\n",
    "X_train3, y_train3 = get_data('./data-3/')"
   ]
  },
  {
   "cell_type": "code",
   "execution_count": 5,
   "metadata": {
    "collapsed": true
   },
   "outputs": [],
   "source": [
    "X_train = np.concatenate((X_train1, X_train2, X_train3))\n",
    "y_train = np.concatenate((y_train1, y_train2, y_train3))"
   ]
  },
  {
   "cell_type": "code",
   "execution_count": 6,
   "metadata": {},
   "outputs": [
    {
     "name": "stdout",
     "output_type": "stream",
     "text": [
      "(8039, 160, 320, 3)\n",
      "(8039,)\n"
     ]
    }
   ],
   "source": [
    "print(X_train.shape)\n",
    "print(y_train.shape)"
   ]
  },
  {
   "cell_type": "code",
   "execution_count": 6,
   "metadata": {
    "collapsed": true
   },
   "outputs": [],
   "source": [
    "# create a simple model\n",
    "input_shape = (160, 320, 3)\n",
    "model = Sequential()\n",
    "model.add(Lambda(lambda x: x / 255.0 - 0.5, input_shape=input_shape))\n",
    "model.add(Cropping2D(cropping=((70,25),(0,0))))\n",
    "model.add(Convolution2D(24,5,5, subsample=(2,2), activation='relu'))\n",
    "model.add(Convolution2D(36,5,5, subsample=(2,2), activation='relu'))\n",
    "model.add(Convolution2D(48,5,5, subsample=(2,2), activation='relu'))\n",
    "model.add(Convolution2D(64,3,3, activation='relu'))\n",
    "model.add(Convolution2D(64,3,3, activation='relu'))\n",
    "model.add(Flatten())\n",
    "model.add(Dense(100))\n",
    "model.add(Dense(50))\n",
    "model.add(Dense(10))\n",
    "model.add(Dense(1))"
   ]
  },
  {
   "cell_type": "code",
   "execution_count": 8,
   "metadata": {},
   "outputs": [
    {
     "name": "stdout",
     "output_type": "stream",
     "text": [
      "Train on 2909 samples, validate on 728 samples\n",
      "Epoch 1/10\n",
      "2909/2909 [==============================] - 4s - loss: 0.0040 - val_loss: 0.0132\n",
      "Epoch 2/10\n",
      "2909/2909 [==============================] - 3s - loss: 0.0029 - val_loss: 0.0137\n",
      "Epoch 3/10\n",
      "2909/2909 [==============================] - 3s - loss: 0.0022 - val_loss: 0.0147\n",
      "Epoch 4/10\n",
      "2909/2909 [==============================] - 3s - loss: 0.0014 - val_loss: 0.0147\n",
      "Epoch 5/10\n",
      "2909/2909 [==============================] - 3s - loss: 0.0012 - val_loss: 0.0142\n",
      "Epoch 6/10\n",
      "2909/2909 [==============================] - 3s - loss: 0.0012 - val_loss: 0.0144\n",
      "Epoch 7/10\n",
      "2909/2909 [==============================] - 4s - loss: 0.0011 - val_loss: 0.0140\n",
      "Epoch 8/10\n",
      "2909/2909 [==============================] - 3s - loss: 7.3753e-04 - val_loss: 0.0136\n",
      "Epoch 9/10\n",
      "2909/2909 [==============================] - 3s - loss: 9.1065e-04 - val_loss: 0.0136\n",
      "Epoch 10/10\n",
      "2909/2909 [==============================] - 3s - loss: 6.4052e-04 - val_loss: 0.0133\n"
     ]
    },
    {
     "data": {
      "text/plain": [
       "<keras.callbacks.History at 0x7f5284924b38>"
      ]
     },
     "execution_count": 8,
     "metadata": {},
     "output_type": "execute_result"
    }
   ],
   "source": [
    "model.compile(loss='mse', optimizer='adam')\n",
    "history_object = model.fit(X_train, y_train, validation_split=0.2,\n",
    "          shuffle=True, nb_epoch=10)"
   ]
  },
  {
   "cell_type": "code",
   "execution_count": 9,
   "metadata": {
    "collapsed": true
   },
   "outputs": [],
   "source": [
    "model.save('model.h5')"
   ]
  },
  {
   "cell_type": "code",
   "execution_count": null,
   "metadata": {
    "collapsed": true
   },
   "outputs": [],
   "source": [
    "# print the output of model\n",
    "### print the keys contained in the history object\n",
    "print(history_object.history.keys())\n",
    "\n",
    "### plot the training and validation loss for each epoch\n",
    "plt.plot(history_object.history['loss'])\n",
    "plt.plot(history_object.history['val_loss'])\n",
    "plt.title('model mean squared error loss')\n",
    "plt.ylabel('mean squared error loss')\n",
    "plt.xlabel('epoch')\n",
    "plt.legend(['training set', 'validation set'], loc='upper right')\n",
    "plt.show()"
   ]
  }
 ],
 "metadata": {
  "kernelspec": {
   "display_name": "Python 3",
   "language": "python",
   "name": "python3"
  },
  "language_info": {
   "codemirror_mode": {
    "name": "ipython",
    "version": 3
   },
   "file_extension": ".py",
   "mimetype": "text/x-python",
   "name": "python",
   "nbconvert_exporter": "python",
   "pygments_lexer": "ipython3",
   "version": "3.5.2"
  },
  "widgets": {
   "state": {},
   "version": "1.1.2"
  }
 },
 "nbformat": 4,
 "nbformat_minor": 2
}
